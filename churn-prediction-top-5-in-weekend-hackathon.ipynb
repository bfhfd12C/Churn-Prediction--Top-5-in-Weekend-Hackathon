{
 "cells": [
  {
   "cell_type": "markdown",
   "metadata": {},
   "source": [
    "# Insurance Churn Prediction\n",
    "\n",
    "Insurance companies around the world operate in a very competitive environment. With various aspects of data collected from millions of customers, it is painstakingly hard to analyze and understand the reason for a customer’s decision to switch to a different insurance provider.\n",
    "\n",
    "For an industry where customer acquisition and retention are equally important, and the former being a more expensive process, insurance companies rely on data to understand customer behavior to prevent retention. Thus knowing whether a customer is possibly going to switch beforehand gives Insurance companies an opportunity to come up with strategies to prevent it from actually happening.\n",
    "\n",
    "# Task\n",
    "\n",
    "Given are 16 distinguishing factors that can help in understanding the customer churn, your objective as a data scientist is to build a Machine Learning model that can predict whether the insurance company will lose a customer or not using these factors.\n",
    "\n",
    "You are provided with 16 anonymized factors (feature_0 to feature 15) that influence the churn of customers in the insurance industry.\n",
    "\n",
    "*Build a Machine Learning model that can predict whether the insurance company will lose a customer or not using these factors.*"
   ]
  },
  {
   "cell_type": "markdown",
   "metadata": {},
   "source": [
    "# 1. Read and import all data files"
   ]
  },
  {
   "cell_type": "code",
   "execution_count": 1,
   "metadata": {
    "_cell_guid": "b1076dfc-b9ad-4769-8c92-a6c4dae69d19",
    "_kg_hide-input": true,
    "_uuid": "8f2839f25d086af736a60e9eeb907d3b93b6e0e5"
   },
   "outputs": [
    {
     "name": "stdout",
     "output_type": "stream",
     "text": [
      "/kaggle/input/insurance-churn-prediction-weekend-hackathon/Insurance_Churn_ParticipantsData/Test.csv\n",
      "/kaggle/input/insurance-churn-prediction-weekend-hackathon/Insurance_Churn_ParticipantsData/sample_submission.xlsx\n",
      "/kaggle/input/insurance-churn-prediction-weekend-hackathon/Insurance_Churn_ParticipantsData/Train.csv\n"
     ]
    },
    {
     "data": {
      "text/plain": [
       "<Figure size 432x288 with 0 Axes>"
      ]
     },
     "metadata": {},
     "output_type": "display_data"
    }
   ],
   "source": [
    "# This Python 3 environment comes with many helpful analytics libraries installed\n",
    "# It is defined by the kaggle/python Docker image: https://github.com/kaggle/docker-python\n",
    "# For example, here's several helpful packages to load\n",
    "\n",
    "import numpy as np # linear algebra\n",
    "import pandas as pd # data processing, CSV file I/O (e.g. pd.read_csv)\n",
    "import matplotlib.cm as cm\n",
    "import matplotlib.pyplot as plt\n",
    "import seaborn as sns\n",
    "figure = plt.figure()\n",
    "\n",
    "# Input data files are available in the read-only \"../input/\" directory\n",
    "# For example, running this (by clicking run or pressing Shift+Enter) will list all files under the input directory\n",
    "\n",
    "import os\n",
    "for dirname, _, filenames in os.walk('/kaggle/input'):\n",
    "    for filename in filenames:\n",
    "        print(os.path.join(dirname, filename))\n",
    "\n",
    "# You can write up to 5GB to the current directory (/kaggle/working/) that gets preserved as output when you create a version using \"Save & Run All\" \n",
    "# You can also write temporary files to /kaggle/temp/, but they won't be saved outside of the current session"
   ]
  },
  {
   "cell_type": "code",
   "execution_count": 2,
   "metadata": {
    "_cell_guid": "79c7e3d0-c299-4dcb-8224-4455121ee9b0",
    "_uuid": "d629ff2d2480ee46fbb7e2d37f6b5fab8052498a"
   },
   "outputs": [],
   "source": [
    "#read data\n",
    "train = pd.read_csv(\"/kaggle/input/insurance-churn-prediction-weekend-hackathon/Insurance_Churn_ParticipantsData/Train.csv\")\n",
    "test = pd.read_csv(\"/kaggle/input/insurance-churn-prediction-weekend-hackathon/Insurance_Churn_ParticipantsData/Test.csv\")"
   ]
  },
  {
   "cell_type": "code",
   "execution_count": 3,
   "metadata": {},
   "outputs": [
    {
     "data": {
      "text/html": [
       "<div>\n",
       "<style scoped>\n",
       "    .dataframe tbody tr th:only-of-type {\n",
       "        vertical-align: middle;\n",
       "    }\n",
       "\n",
       "    .dataframe tbody tr th {\n",
       "        vertical-align: top;\n",
       "    }\n",
       "\n",
       "    .dataframe thead th {\n",
       "        text-align: right;\n",
       "    }\n",
       "</style>\n",
       "<table border=\"1\" class=\"dataframe\">\n",
       "  <thead>\n",
       "    <tr style=\"text-align: right;\">\n",
       "      <th></th>\n",
       "      <th>feature_0</th>\n",
       "      <th>feature_1</th>\n",
       "      <th>feature_2</th>\n",
       "      <th>feature_3</th>\n",
       "      <th>feature_4</th>\n",
       "      <th>feature_5</th>\n",
       "      <th>feature_6</th>\n",
       "      <th>feature_7</th>\n",
       "      <th>feature_8</th>\n",
       "      <th>feature_9</th>\n",
       "      <th>feature_10</th>\n",
       "      <th>feature_11</th>\n",
       "      <th>feature_12</th>\n",
       "      <th>feature_13</th>\n",
       "      <th>feature_14</th>\n",
       "      <th>feature_15</th>\n",
       "      <th>labels</th>\n",
       "    </tr>\n",
       "  </thead>\n",
       "  <tbody>\n",
       "    <tr>\n",
       "      <th>0</th>\n",
       "      <td>-0.276515</td>\n",
       "      <td>-0.424429</td>\n",
       "      <td>1.344997</td>\n",
       "      <td>-0.012283</td>\n",
       "      <td>0.076230</td>\n",
       "      <td>1.076648</td>\n",
       "      <td>0.182198</td>\n",
       "      <td>3</td>\n",
       "      <td>0</td>\n",
       "      <td>1</td>\n",
       "      <td>0</td>\n",
       "      <td>0</td>\n",
       "      <td>0</td>\n",
       "      <td>0</td>\n",
       "      <td>10</td>\n",
       "      <td>2</td>\n",
       "      <td>1</td>\n",
       "    </tr>\n",
       "    <tr>\n",
       "      <th>1</th>\n",
       "      <td>0.853573</td>\n",
       "      <td>0.150991</td>\n",
       "      <td>0.503892</td>\n",
       "      <td>-0.979179</td>\n",
       "      <td>-0.569351</td>\n",
       "      <td>-0.411453</td>\n",
       "      <td>-0.251940</td>\n",
       "      <td>4</td>\n",
       "      <td>1</td>\n",
       "      <td>2</td>\n",
       "      <td>0</td>\n",
       "      <td>1</td>\n",
       "      <td>0</td>\n",
       "      <td>0</td>\n",
       "      <td>0</td>\n",
       "      <td>3</td>\n",
       "      <td>0</td>\n",
       "    </tr>\n",
       "    <tr>\n",
       "      <th>2</th>\n",
       "      <td>0.947747</td>\n",
       "      <td>-0.173832</td>\n",
       "      <td>1.825628</td>\n",
       "      <td>-0.703478</td>\n",
       "      <td>0.076230</td>\n",
       "      <td>-0.411453</td>\n",
       "      <td>-0.251940</td>\n",
       "      <td>6</td>\n",
       "      <td>1</td>\n",
       "      <td>2</td>\n",
       "      <td>0</td>\n",
       "      <td>0</td>\n",
       "      <td>0</td>\n",
       "      <td>0</td>\n",
       "      <td>5</td>\n",
       "      <td>3</td>\n",
       "      <td>0</td>\n",
       "    </tr>\n",
       "    <tr>\n",
       "      <th>3</th>\n",
       "      <td>0.853573</td>\n",
       "      <td>-0.381404</td>\n",
       "      <td>0.984523</td>\n",
       "      <td>-0.039464</td>\n",
       "      <td>-0.569351</td>\n",
       "      <td>-0.411453</td>\n",
       "      <td>-0.251940</td>\n",
       "      <td>4</td>\n",
       "      <td>0</td>\n",
       "      <td>2</td>\n",
       "      <td>0</td>\n",
       "      <td>1</td>\n",
       "      <td>0</td>\n",
       "      <td>0</td>\n",
       "      <td>5</td>\n",
       "      <td>3</td>\n",
       "      <td>0</td>\n",
       "    </tr>\n",
       "    <tr>\n",
       "      <th>4</th>\n",
       "      <td>1.324443</td>\n",
       "      <td>1.590527</td>\n",
       "      <td>-1.178318</td>\n",
       "      <td>-0.097711</td>\n",
       "      <td>-0.246560</td>\n",
       "      <td>-0.411453</td>\n",
       "      <td>-0.251940</td>\n",
       "      <td>0</td>\n",
       "      <td>1</td>\n",
       "      <td>1</td>\n",
       "      <td>0</td>\n",
       "      <td>0</td>\n",
       "      <td>0</td>\n",
       "      <td>0</td>\n",
       "      <td>8</td>\n",
       "      <td>3</td>\n",
       "      <td>0</td>\n",
       "    </tr>\n",
       "  </tbody>\n",
       "</table>\n",
       "</div>"
      ],
      "text/plain": [
       "   feature_0  feature_1  feature_2  feature_3  feature_4  feature_5  \\\n",
       "0  -0.276515  -0.424429   1.344997  -0.012283   0.076230   1.076648   \n",
       "1   0.853573   0.150991   0.503892  -0.979179  -0.569351  -0.411453   \n",
       "2   0.947747  -0.173832   1.825628  -0.703478   0.076230  -0.411453   \n",
       "3   0.853573  -0.381404   0.984523  -0.039464  -0.569351  -0.411453   \n",
       "4   1.324443   1.590527  -1.178318  -0.097711  -0.246560  -0.411453   \n",
       "\n",
       "   feature_6  feature_7  feature_8  feature_9  feature_10  feature_11  \\\n",
       "0   0.182198          3          0          1           0           0   \n",
       "1  -0.251940          4          1          2           0           1   \n",
       "2  -0.251940          6          1          2           0           0   \n",
       "3  -0.251940          4          0          2           0           1   \n",
       "4  -0.251940          0          1          1           0           0   \n",
       "\n",
       "   feature_12  feature_13  feature_14  feature_15  labels  \n",
       "0           0           0          10           2       1  \n",
       "1           0           0           0           3       0  \n",
       "2           0           0           5           3       0  \n",
       "3           0           0           5           3       0  \n",
       "4           0           0           8           3       0  "
      ]
     },
     "execution_count": 3,
     "metadata": {},
     "output_type": "execute_result"
    }
   ],
   "source": [
    "train.head()"
   ]
  },
  {
   "cell_type": "code",
   "execution_count": 4,
   "metadata": {},
   "outputs": [
    {
     "data": {
      "text/html": [
       "<div>\n",
       "<style scoped>\n",
       "    .dataframe tbody tr th:only-of-type {\n",
       "        vertical-align: middle;\n",
       "    }\n",
       "\n",
       "    .dataframe tbody tr th {\n",
       "        vertical-align: top;\n",
       "    }\n",
       "\n",
       "    .dataframe thead th {\n",
       "        text-align: right;\n",
       "    }\n",
       "</style>\n",
       "<table border=\"1\" class=\"dataframe\">\n",
       "  <thead>\n",
       "    <tr style=\"text-align: right;\">\n",
       "      <th></th>\n",
       "      <th>feature_0</th>\n",
       "      <th>feature_1</th>\n",
       "      <th>feature_2</th>\n",
       "      <th>feature_3</th>\n",
       "      <th>feature_4</th>\n",
       "      <th>feature_5</th>\n",
       "      <th>feature_6</th>\n",
       "      <th>feature_7</th>\n",
       "      <th>feature_8</th>\n",
       "      <th>feature_9</th>\n",
       "      <th>feature_10</th>\n",
       "      <th>feature_11</th>\n",
       "      <th>feature_12</th>\n",
       "      <th>feature_13</th>\n",
       "      <th>feature_14</th>\n",
       "      <th>feature_15</th>\n",
       "    </tr>\n",
       "  </thead>\n",
       "  <tbody>\n",
       "    <tr>\n",
       "      <th>0</th>\n",
       "      <td>0.571051</td>\n",
       "      <td>0.406843</td>\n",
       "      <td>0.984523</td>\n",
       "      <td>0.011016</td>\n",
       "      <td>-0.569351</td>\n",
       "      <td>-0.411453</td>\n",
       "      <td>-0.251940</td>\n",
       "      <td>0</td>\n",
       "      <td>1</td>\n",
       "      <td>1</td>\n",
       "      <td>0</td>\n",
       "      <td>0</td>\n",
       "      <td>0</td>\n",
       "      <td>0</td>\n",
       "      <td>11</td>\n",
       "      <td>3</td>\n",
       "    </tr>\n",
       "    <tr>\n",
       "      <th>1</th>\n",
       "      <td>-1.124080</td>\n",
       "      <td>-0.166935</td>\n",
       "      <td>0.503892</td>\n",
       "      <td>-0.322932</td>\n",
       "      <td>0.721811</td>\n",
       "      <td>0.547323</td>\n",
       "      <td>0.182198</td>\n",
       "      <td>0</td>\n",
       "      <td>2</td>\n",
       "      <td>1</td>\n",
       "      <td>0</td>\n",
       "      <td>0</td>\n",
       "      <td>0</td>\n",
       "      <td>0</td>\n",
       "      <td>5</td>\n",
       "      <td>1</td>\n",
       "    </tr>\n",
       "    <tr>\n",
       "      <th>2</th>\n",
       "      <td>0.476877</td>\n",
       "      <td>0.145079</td>\n",
       "      <td>-0.577529</td>\n",
       "      <td>-0.691828</td>\n",
       "      <td>-0.246560</td>\n",
       "      <td>-0.411453</td>\n",
       "      <td>-0.251940</td>\n",
       "      <td>0</td>\n",
       "      <td>1</td>\n",
       "      <td>1</td>\n",
       "      <td>0</td>\n",
       "      <td>0</td>\n",
       "      <td>0</td>\n",
       "      <td>0</td>\n",
       "      <td>1</td>\n",
       "      <td>3</td>\n",
       "    </tr>\n",
       "    <tr>\n",
       "      <th>3</th>\n",
       "      <td>1.606965</td>\n",
       "      <td>-0.447419</td>\n",
       "      <td>1.825628</td>\n",
       "      <td>-0.983062</td>\n",
       "      <td>7.177616</td>\n",
       "      <td>-0.411453</td>\n",
       "      <td>-0.251940</td>\n",
       "      <td>1</td>\n",
       "      <td>1</td>\n",
       "      <td>0</td>\n",
       "      <td>0</td>\n",
       "      <td>1</td>\n",
       "      <td>0</td>\n",
       "      <td>0</td>\n",
       "      <td>5</td>\n",
       "      <td>3</td>\n",
       "    </tr>\n",
       "    <tr>\n",
       "      <th>4</th>\n",
       "      <td>-0.935732</td>\n",
       "      <td>-0.364653</td>\n",
       "      <td>-1.178318</td>\n",
       "      <td>-0.322932</td>\n",
       "      <td>0.076230</td>\n",
       "      <td>-0.411453</td>\n",
       "      <td>-0.251940</td>\n",
       "      <td>8</td>\n",
       "      <td>2</td>\n",
       "      <td>1</td>\n",
       "      <td>0</td>\n",
       "      <td>1</td>\n",
       "      <td>0</td>\n",
       "      <td>2</td>\n",
       "      <td>8</td>\n",
       "      <td>3</td>\n",
       "    </tr>\n",
       "  </tbody>\n",
       "</table>\n",
       "</div>"
      ],
      "text/plain": [
       "   feature_0  feature_1  feature_2  feature_3  feature_4  feature_5  \\\n",
       "0   0.571051   0.406843   0.984523   0.011016  -0.569351  -0.411453   \n",
       "1  -1.124080  -0.166935   0.503892  -0.322932   0.721811   0.547323   \n",
       "2   0.476877   0.145079  -0.577529  -0.691828  -0.246560  -0.411453   \n",
       "3   1.606965  -0.447419   1.825628  -0.983062   7.177616  -0.411453   \n",
       "4  -0.935732  -0.364653  -1.178318  -0.322932   0.076230  -0.411453   \n",
       "\n",
       "   feature_6  feature_7  feature_8  feature_9  feature_10  feature_11  \\\n",
       "0  -0.251940          0          1          1           0           0   \n",
       "1   0.182198          0          2          1           0           0   \n",
       "2  -0.251940          0          1          1           0           0   \n",
       "3  -0.251940          1          1          0           0           1   \n",
       "4  -0.251940          8          2          1           0           1   \n",
       "\n",
       "   feature_12  feature_13  feature_14  feature_15  \n",
       "0           0           0          11           3  \n",
       "1           0           0           5           1  \n",
       "2           0           0           1           3  \n",
       "3           0           0           5           3  \n",
       "4           0           2           8           3  "
      ]
     },
     "execution_count": 4,
     "metadata": {},
     "output_type": "execute_result"
    }
   ],
   "source": [
    "test.head()"
   ]
  },
  {
   "cell_type": "markdown",
   "metadata": {},
   "source": [
    "# 2. Features Analysis:"
   ]
  },
  {
   "cell_type": "code",
   "execution_count": 5,
   "metadata": {},
   "outputs": [
    {
     "data": {
      "text/html": [
       "<div>\n",
       "<style scoped>\n",
       "    .dataframe tbody tr th:only-of-type {\n",
       "        vertical-align: middle;\n",
       "    }\n",
       "\n",
       "    .dataframe tbody tr th {\n",
       "        vertical-align: top;\n",
       "    }\n",
       "\n",
       "    .dataframe thead th {\n",
       "        text-align: right;\n",
       "    }\n",
       "</style>\n",
       "<table border=\"1\" class=\"dataframe\">\n",
       "  <thead>\n",
       "    <tr style=\"text-align: right;\">\n",
       "      <th></th>\n",
       "      <th>feature_0</th>\n",
       "      <th>feature_1</th>\n",
       "      <th>feature_2</th>\n",
       "      <th>feature_3</th>\n",
       "      <th>feature_4</th>\n",
       "      <th>feature_5</th>\n",
       "      <th>feature_6</th>\n",
       "      <th>feature_7</th>\n",
       "      <th>feature_8</th>\n",
       "      <th>feature_9</th>\n",
       "      <th>feature_10</th>\n",
       "      <th>feature_11</th>\n",
       "      <th>feature_12</th>\n",
       "      <th>feature_13</th>\n",
       "      <th>feature_14</th>\n",
       "      <th>feature_15</th>\n",
       "      <th>labels</th>\n",
       "    </tr>\n",
       "  </thead>\n",
       "  <tbody>\n",
       "    <tr>\n",
       "      <th>count</th>\n",
       "      <td>33908.000000</td>\n",
       "      <td>33908.000000</td>\n",
       "      <td>33908.000000</td>\n",
       "      <td>33908.000000</td>\n",
       "      <td>33908.000000</td>\n",
       "      <td>33908.000000</td>\n",
       "      <td>33908.000000</td>\n",
       "      <td>33908.000000</td>\n",
       "      <td>33908.000000</td>\n",
       "      <td>33908.000000</td>\n",
       "      <td>33908.000000</td>\n",
       "      <td>33908.000000</td>\n",
       "      <td>33908.000000</td>\n",
       "      <td>33908.000000</td>\n",
       "      <td>33908.000000</td>\n",
       "      <td>33908.000000</td>\n",
       "      <td>33908.000000</td>\n",
       "    </tr>\n",
       "    <tr>\n",
       "      <th>mean</th>\n",
       "      <td>-0.004158</td>\n",
       "      <td>0.002584</td>\n",
       "      <td>-0.000213</td>\n",
       "      <td>-0.000053</td>\n",
       "      <td>-0.000298</td>\n",
       "      <td>-0.004652</td>\n",
       "      <td>-0.007498</td>\n",
       "      <td>4.336381</td>\n",
       "      <td>1.171051</td>\n",
       "      <td>1.225345</td>\n",
       "      <td>0.018137</td>\n",
       "      <td>0.555503</td>\n",
       "      <td>0.159667</td>\n",
       "      <td>0.639407</td>\n",
       "      <td>5.520497</td>\n",
       "      <td>2.562375</td>\n",
       "      <td>0.116993</td>\n",
       "    </tr>\n",
       "    <tr>\n",
       "      <th>std</th>\n",
       "      <td>0.999776</td>\n",
       "      <td>1.014268</td>\n",
       "      <td>1.000872</td>\n",
       "      <td>1.002512</td>\n",
       "      <td>1.003724</td>\n",
       "      <td>0.993984</td>\n",
       "      <td>0.802696</td>\n",
       "      <td>3.273376</td>\n",
       "      <td>0.606730</td>\n",
       "      <td>0.749104</td>\n",
       "      <td>0.133450</td>\n",
       "      <td>0.496917</td>\n",
       "      <td>0.366303</td>\n",
       "      <td>0.897627</td>\n",
       "      <td>3.003241</td>\n",
       "      <td>0.987148</td>\n",
       "      <td>0.321417</td>\n",
       "    </tr>\n",
       "    <tr>\n",
       "      <th>min</th>\n",
       "      <td>-2.159994</td>\n",
       "      <td>-3.081149</td>\n",
       "      <td>-1.779108</td>\n",
       "      <td>-1.002478</td>\n",
       "      <td>-0.569351</td>\n",
       "      <td>-0.411453</td>\n",
       "      <td>-0.251940</td>\n",
       "      <td>0.000000</td>\n",
       "      <td>0.000000</td>\n",
       "      <td>0.000000</td>\n",
       "      <td>0.000000</td>\n",
       "      <td>0.000000</td>\n",
       "      <td>0.000000</td>\n",
       "      <td>0.000000</td>\n",
       "      <td>0.000000</td>\n",
       "      <td>0.000000</td>\n",
       "      <td>0.000000</td>\n",
       "    </tr>\n",
       "    <tr>\n",
       "      <th>25%</th>\n",
       "      <td>-0.747384</td>\n",
       "      <td>-0.422787</td>\n",
       "      <td>-0.938003</td>\n",
       "      <td>-0.602517</td>\n",
       "      <td>-0.569351</td>\n",
       "      <td>-0.411453</td>\n",
       "      <td>-0.251940</td>\n",
       "      <td>1.000000</td>\n",
       "      <td>1.000000</td>\n",
       "      <td>1.000000</td>\n",
       "      <td>0.000000</td>\n",
       "      <td>0.000000</td>\n",
       "      <td>0.000000</td>\n",
       "      <td>0.000000</td>\n",
       "      <td>3.000000</td>\n",
       "      <td>3.000000</td>\n",
       "      <td>0.000000</td>\n",
       "    </tr>\n",
       "    <tr>\n",
       "      <th>50%</th>\n",
       "      <td>-0.182341</td>\n",
       "      <td>-0.297324</td>\n",
       "      <td>0.023260</td>\n",
       "      <td>-0.303517</td>\n",
       "      <td>-0.246560</td>\n",
       "      <td>-0.411453</td>\n",
       "      <td>-0.251940</td>\n",
       "      <td>4.000000</td>\n",
       "      <td>1.000000</td>\n",
       "      <td>1.000000</td>\n",
       "      <td>0.000000</td>\n",
       "      <td>1.000000</td>\n",
       "      <td>0.000000</td>\n",
       "      <td>0.000000</td>\n",
       "      <td>6.000000</td>\n",
       "      <td>3.000000</td>\n",
       "      <td>0.000000</td>\n",
       "    </tr>\n",
       "    <tr>\n",
       "      <th>75%</th>\n",
       "      <td>0.665225</td>\n",
       "      <td>0.022901</td>\n",
       "      <td>0.624050</td>\n",
       "      <td>0.236237</td>\n",
       "      <td>0.076230</td>\n",
       "      <td>-0.411453</td>\n",
       "      <td>-0.251940</td>\n",
       "      <td>7.000000</td>\n",
       "      <td>2.000000</td>\n",
       "      <td>2.000000</td>\n",
       "      <td>0.000000</td>\n",
       "      <td>1.000000</td>\n",
       "      <td>0.000000</td>\n",
       "      <td>2.000000</td>\n",
       "      <td>8.000000</td>\n",
       "      <td>3.000000</td>\n",
       "      <td>0.000000</td>\n",
       "    </tr>\n",
       "    <tr>\n",
       "      <th>max</th>\n",
       "      <td>5.091402</td>\n",
       "      <td>33.094776</td>\n",
       "      <td>1.825628</td>\n",
       "      <td>18.094700</td>\n",
       "      <td>19.443647</td>\n",
       "      <td>8.127648</td>\n",
       "      <td>23.625644</td>\n",
       "      <td>11.000000</td>\n",
       "      <td>2.000000</td>\n",
       "      <td>3.000000</td>\n",
       "      <td>1.000000</td>\n",
       "      <td>1.000000</td>\n",
       "      <td>1.000000</td>\n",
       "      <td>2.000000</td>\n",
       "      <td>11.000000</td>\n",
       "      <td>3.000000</td>\n",
       "      <td>1.000000</td>\n",
       "    </tr>\n",
       "  </tbody>\n",
       "</table>\n",
       "</div>"
      ],
      "text/plain": [
       "          feature_0     feature_1     feature_2     feature_3     feature_4  \\\n",
       "count  33908.000000  33908.000000  33908.000000  33908.000000  33908.000000   \n",
       "mean      -0.004158      0.002584     -0.000213     -0.000053     -0.000298   \n",
       "std        0.999776      1.014268      1.000872      1.002512      1.003724   \n",
       "min       -2.159994     -3.081149     -1.779108     -1.002478     -0.569351   \n",
       "25%       -0.747384     -0.422787     -0.938003     -0.602517     -0.569351   \n",
       "50%       -0.182341     -0.297324      0.023260     -0.303517     -0.246560   \n",
       "75%        0.665225      0.022901      0.624050      0.236237      0.076230   \n",
       "max        5.091402     33.094776      1.825628     18.094700     19.443647   \n",
       "\n",
       "          feature_5     feature_6     feature_7     feature_8     feature_9  \\\n",
       "count  33908.000000  33908.000000  33908.000000  33908.000000  33908.000000   \n",
       "mean      -0.004652     -0.007498      4.336381      1.171051      1.225345   \n",
       "std        0.993984      0.802696      3.273376      0.606730      0.749104   \n",
       "min       -0.411453     -0.251940      0.000000      0.000000      0.000000   \n",
       "25%       -0.411453     -0.251940      1.000000      1.000000      1.000000   \n",
       "50%       -0.411453     -0.251940      4.000000      1.000000      1.000000   \n",
       "75%       -0.411453     -0.251940      7.000000      2.000000      2.000000   \n",
       "max        8.127648     23.625644     11.000000      2.000000      3.000000   \n",
       "\n",
       "         feature_10    feature_11    feature_12    feature_13    feature_14  \\\n",
       "count  33908.000000  33908.000000  33908.000000  33908.000000  33908.000000   \n",
       "mean       0.018137      0.555503      0.159667      0.639407      5.520497   \n",
       "std        0.133450      0.496917      0.366303      0.897627      3.003241   \n",
       "min        0.000000      0.000000      0.000000      0.000000      0.000000   \n",
       "25%        0.000000      0.000000      0.000000      0.000000      3.000000   \n",
       "50%        0.000000      1.000000      0.000000      0.000000      6.000000   \n",
       "75%        0.000000      1.000000      0.000000      2.000000      8.000000   \n",
       "max        1.000000      1.000000      1.000000      2.000000     11.000000   \n",
       "\n",
       "         feature_15        labels  \n",
       "count  33908.000000  33908.000000  \n",
       "mean       2.562375      0.116993  \n",
       "std        0.987148      0.321417  \n",
       "min        0.000000      0.000000  \n",
       "25%        3.000000      0.000000  \n",
       "50%        3.000000      0.000000  \n",
       "75%        3.000000      0.000000  \n",
       "max        3.000000      1.000000  "
      ]
     },
     "execution_count": 5,
     "metadata": {},
     "output_type": "execute_result"
    }
   ],
   "source": [
    "train.describe()"
   ]
  },
  {
   "cell_type": "markdown",
   "metadata": {},
   "source": [
    "### 2.1 **Check Categorical features**"
   ]
  },
  {
   "cell_type": "code",
   "execution_count": 6,
   "metadata": {},
   "outputs": [
    {
     "data": {
      "text/plain": [
       "feature_0     float64\n",
       "feature_1     float64\n",
       "feature_2     float64\n",
       "feature_3     float64\n",
       "feature_4     float64\n",
       "feature_5     float64\n",
       "feature_6     float64\n",
       "feature_7       int64\n",
       "feature_8       int64\n",
       "feature_9       int64\n",
       "feature_10      int64\n",
       "feature_11      int64\n",
       "feature_12      int64\n",
       "feature_13      int64\n",
       "feature_14      int64\n",
       "feature_15      int64\n",
       "labels          int64\n",
       "dtype: object"
      ]
     },
     "execution_count": 6,
     "metadata": {},
     "output_type": "execute_result"
    }
   ],
   "source": [
    "train.dtypes"
   ]
  },
  {
   "cell_type": "markdown",
   "metadata": {},
   "source": [
    "As it is clearly seen there is no categorical feature so there is no need of categorical mapping"
   ]
  },
  {
   "cell_type": "markdown",
   "metadata": {},
   "source": [
    "### 2.2 **Check missing values**"
   ]
  },
  {
   "cell_type": "code",
   "execution_count": 7,
   "metadata": {},
   "outputs": [
    {
     "data": {
      "text/plain": [
       "feature_0     0\n",
       "feature_1     0\n",
       "feature_2     0\n",
       "feature_3     0\n",
       "feature_4     0\n",
       "feature_5     0\n",
       "feature_6     0\n",
       "feature_7     0\n",
       "feature_8     0\n",
       "feature_9     0\n",
       "feature_10    0\n",
       "feature_11    0\n",
       "feature_12    0\n",
       "feature_13    0\n",
       "feature_14    0\n",
       "feature_15    0\n",
       "labels        0\n",
       "dtype: int64"
      ]
     },
     "execution_count": 7,
     "metadata": {},
     "output_type": "execute_result"
    }
   ],
   "source": [
    "train.isnull().sum()"
   ]
  },
  {
   "cell_type": "markdown",
   "metadata": {},
   "source": [
    "There is no missing value."
   ]
  },
  {
   "cell_type": "markdown",
   "metadata": {},
   "source": [
    "### 2.3 Univirate Analysis\n",
    "\n",
    "This analysis helps us in removing the outliers present in the dataset that may lead to overfit the model with noise."
   ]
  },
  {
   "cell_type": "code",
   "execution_count": 8,
   "metadata": {},
   "outputs": [
    {
     "name": "stdout",
     "output_type": "stream",
     "text": [
      "plot of feature feature_0 is {'whiskers': [<matplotlib.lines.Line2D object at 0x7f5a810c2f90>, <matplotlib.lines.Line2D object at 0x7f5a80c84790>], 'caps': [<matplotlib.lines.Line2D object at 0x7f5a810df650>, <matplotlib.lines.Line2D object at 0x7f5a810dfb50>], 'boxes': [<matplotlib.lines.Line2D object at 0x7f5a810c2f50>], 'medians': [<matplotlib.lines.Line2D object at 0x7f5a810dfbd0>], 'fliers': [<matplotlib.lines.Line2D object at 0x7f5a810e65d0>], 'means': []}\n"
     ]
    },
    {
     "data": {
      "image/png": "[encoded data removed]",
      "text/plain": [
       "<Figure size 432x288 with 1 Axes>"
      ]
     },
     "metadata": {
      "needs_background": "light"
     },
     "output_type": "display_data"
    },
    {
     "name": "stdout",
     "output_type": "stream",
     "text": [
      "plot of feature feature_1 is {'whiskers': [<matplotlib.lines.Line2D object at 0x7f5a81056210>, <matplotlib.lines.Line2D object at 0x7f5a810ae850>], 'caps': [<matplotlib.lines.Line2D object at 0x7f5a80fea510>, <matplotlib.lines.Line2D object at 0x7f5a80feaa10>], 'boxes': [<matplotlib.lines.Line2D object at 0x7f5a810633d0>], 'medians': [<matplotlib.lines.Line2D object at 0x7f5a80ff1510>], 'fliers': [<matplotlib.lines.Line2D object at 0x7f5a80ff1450>], 'means': []}\n"
     ]
    },
    {
     "data": {
      "image/png": "[encoded data removed]",
      "text/plain": [
       "<Figure size 432x288 with 1 Axes>"
      ]
     },
     "metadata": {
      "needs_background": "light"
     },
     "output_type": "display_data"
    },
    {
     "name": "stdout",
     "output_type": "stream",
     "text": [
      "plot of feature feature_2 is {'whiskers': [<matplotlib.lines.Line2D object at 0x7f5a80fcefd0>, <matplotlib.lines.Line2D object at 0x7f5a80fdcbd0>], 'caps': [<matplotlib.lines.Line2D object at 0x7f5a80fe2110>, <matplotlib.lines.Line2D object at 0x7f5a80fe2610>], 'boxes': [<matplotlib.lines.Line2D object at 0x7f5a80fcef90>], 'medians': [<matplotlib.lines.Line2D object at 0x7f5a8101e210>], 'fliers': [<matplotlib.lines.Line2D object at 0x7f5a80fe9050>], 'means': []}\n"
     ]
    },
    {
     "data": {
      "image/png": "[encoded data removed]",
      "text/plain": [
       "<Figure size 432x288 with 1 Axes>"
      ]
     },
     "metadata": {
      "needs_background": "light"
     },
     "output_type": "display_data"
    },
    {
     "name": "stdout",
     "output_type": "stream",
     "text": [
      "plot of feature feature_3 is {'whiskers': [<matplotlib.lines.Line2D object at 0x7f5a80f461d0>, <matplotlib.lines.Line2D object at 0x7f5a80f52e90>], 'caps': [<matplotlib.lines.Line2D object at 0x7f5a80f56350>, <matplotlib.lines.Line2D object at 0x7f5a80f56850>], 'boxes': [<matplotlib.lines.Line2D object at 0x7f5a80f52250>], 'medians': [<matplotlib.lines.Line2D object at 0x7f5a80f94590>], 'fliers': [<matplotlib.lines.Line2D object at 0x7f5a80f5e290>], 'means': []}\n"
     ]
    },
    {
     "data": {
      "image/png": "[encoded data removed]",
      "text/plain": [
       "<Figure size 432x288 with 1 Axes>"
      ]
     },
     "metadata": {
      "needs_background": "light"
     },
     "output_type": "display_data"
    },
    {
     "name": "stdout",
     "output_type": "stream",
     "text": [
      "plot of feature feature_4 is {'whiskers': [<matplotlib.lines.Line2D object at 0x7f5a80eb6f90>, <matplotlib.lines.Line2D object at 0x7f5a80ec3b90>], 'caps': [<matplotlib.lines.Line2D object at 0x7f5a80ec80d0>, <matplotlib.lines.Line2D object at 0x7f5a80ec85d0>], 'boxes': [<matplotlib.lines.Line2D object at 0x7f5a80eb6f50>], 'medians': [<matplotlib.lines.Line2D object at 0x7f5a80f0db50>], 'fliers': [<matplotlib.lines.Line2D object at 0x7f5a80ed1050>], 'means': []}\n"
     ]
    },
    {
     "data": {
      "image/png": "[encoded data removed]",
      "text/plain": [
       "<Figure size 432x288 with 1 Axes>"
      ]
     },
     "metadata": {
      "needs_background": "light"
     },
     "output_type": "display_data"
    },
    {
     "name": "stdout",
     "output_type": "stream",
     "text": [
      "plot of feature feature_5 is {'whiskers': [<matplotlib.lines.Line2D object at 0x7f5a80ea82d0>, <matplotlib.lines.Line2D object at 0x7f5a80e73a90>], 'caps': [<matplotlib.lines.Line2D object at 0x7f5a80e3a510>, <matplotlib.lines.Line2D object at 0x7f5a80e3aa10>], 'boxes': [<matplotlib.lines.Line2D object at 0x7f5a80e343d0>], 'medians': [<matplotlib.lines.Line2D object at 0x7f5a80e44510>], 'fliers': [<matplotlib.lines.Line2D object at 0x7f5a80e44450>], 'means': []}\n"
     ]
    },
    {
     "data": {
      "image/png": "[encoded data removed]",
      "text/plain": [
       "<Figure size 432x288 with 1 Axes>"
      ]
     },
     "metadata": {
      "needs_background": "light"
     },
     "output_type": "display_data"
    },
    {
     "name": "stdout",
     "output_type": "stream",
     "text": [
      "plot of feature feature_6 is {'whiskers': [<matplotlib.lines.Line2D object at 0x7f5a80e13f50>, <matplotlib.lines.Line2D object at 0x7f5a80e21b50>], 'caps': [<matplotlib.lines.Line2D object at 0x7f5a80e26050>, <matplotlib.lines.Line2D object at 0x7f5a80e26550>], 'boxes': [<matplotlib.lines.Line2D object at 0x7f5a80e13f10>], 'medians': [<matplotlib.lines.Line2D object at 0x7f5a80dee2d0>], 'fliers': [<matplotlib.lines.Line2D object at 0x7f5a80e26b50>], 'means': []}\n"
     ]
    },
    {
     "data": {
      "image/png": "[encoded data removed]",
      "text/plain": [
       "<Figure size 432x288 with 1 Axes>"
      ]
     },
     "metadata": {
      "needs_background": "light"
     },
     "output_type": "display_data"
    },
    {
     "name": "stdout",
     "output_type": "stream",
     "text": [
      "plot of feature feature_7 is {'whiskers': [<matplotlib.lines.Line2D object at 0x7f5a80d7ead0>, <matplotlib.lines.Line2D object at 0x7f5a80d886d0>], 'caps': [<matplotlib.lines.Line2D object at 0x7f5a80d88bd0>, <matplotlib.lines.Line2D object at 0x7f5a80d8f110>], 'boxes': [<matplotlib.lines.Line2D object at 0x7f5a80d7ea90>], 'medians': [<matplotlib.lines.Line2D object at 0x7f5a80d8fbd0>], 'fliers': [<matplotlib.lines.Line2D object at 0x7f5a80d8fc50>], 'means': []}\n"
     ]
    },
    {
     "data": {
      "image/png": "[encoded data removed]",
      "text/plain": [
       "<Figure size 432x288 with 1 Axes>"
      ]
     },
     "metadata": {
      "needs_background": "light"
     },
     "output_type": "display_data"
    },
    {
     "name": "stdout",
     "output_type": "stream",
     "text": [
      "plot of feature feature_8 is {'whiskers': [<matplotlib.lines.Line2D object at 0x7f5a80db8f10>, <matplotlib.lines.Line2D object at 0x7f5a80e13550>], 'caps': [<matplotlib.lines.Line2D object at 0x7f5a80e13fd0>, <matplotlib.lines.Line2D object at 0x7f5a80e21ed0>], 'boxes': [<matplotlib.lines.Line2D object at 0x7f5a80db8f90>], 'medians': [<matplotlib.lines.Line2D object at 0x7f5a80d3b550>], 'fliers': [<matplotlib.lines.Line2D object at 0x7f5a80e219d0>], 'means': []}\n"
     ]
    },
    {
     "data": {
      "image/png": "[encoded data removed]",
      "text/plain": [
       "<Figure size 432x288 with 1 Axes>"
      ]
     },
     "metadata": {
      "needs_background": "light"
     },
     "output_type": "display_data"
    },
    {
     "name": "stdout",
     "output_type": "stream",
     "text": [
      "plot of feature feature_9 is {'whiskers': [<matplotlib.lines.Line2D object at 0x7f5a80f0d890>, <matplotlib.lines.Line2D object at 0x7f5a80eefd50>], 'caps': [<matplotlib.lines.Line2D object at 0x7f5a80f67450>, <matplotlib.lines.Line2D object at 0x7f5a80f67950>], 'boxes': [<matplotlib.lines.Line2D object at 0x7f5a80eefc10>], 'medians': [<matplotlib.lines.Line2D object at 0x7f5a80e44c50>], 'fliers': [<matplotlib.lines.Line2D object at 0x7f5a80ef5110>], 'means': []}\n"
     ]
    },
    {
     "data": {
      "image/png": "[encoded data removed]",
      "text/plain": [
       "<Figure size 432x288 with 1 Axes>"
      ]
     },
     "metadata": {
      "needs_background": "light"
     },
     "output_type": "display_data"
    },
    {
     "name": "stdout",
     "output_type": "stream",
     "text": [
      "plot of feature feature_10 is {'whiskers': [<matplotlib.lines.Line2D object at 0x7f5a81079c90>, <matplotlib.lines.Line2D object at 0x7f5a810e65d0>], 'caps': [<matplotlib.lines.Line2D object at 0x7f5a810e6450>, <matplotlib.lines.Line2D object at 0x7f5a810f2a50>], 'boxes': [<matplotlib.lines.Line2D object at 0x7f5a81079d90>], 'medians': [<matplotlib.lines.Line2D object at 0x7f5a810f2b90>], 'fliers': [<matplotlib.lines.Line2D object at 0x7f5a810f2dd0>], 'means': []}\n"
     ]
    },
    {
     "data": {
      "image/png": "[encoded data removed]",
      "text/plain": [
       "<Figure size 432x288 with 1 Axes>"
      ]
     },
     "metadata": {
      "needs_background": "light"
     },
     "output_type": "display_data"
    },
    {
     "name": "stdout",
     "output_type": "stream",
     "text": [
      "plot of feature feature_11 is {'whiskers': [<matplotlib.lines.Line2D object at 0x7f5a80e49390>, <matplotlib.lines.Line2D object at 0x7f5a8100c090>], 'caps': [<matplotlib.lines.Line2D object at 0x7f5a8100c510>, <matplotlib.lines.Line2D object at 0x7f5a8100ca10>], 'boxes': [<matplotlib.lines.Line2D object at 0x7f5a81022450>], 'medians': [<matplotlib.lines.Line2D object at 0x7f5a8101f510>], 'fliers': [<matplotlib.lines.Line2D object at 0x7f5a8101f450>], 'means': []}\n"
     ]
    },
    {
     "data": {
      "image/png": "[encoded data removed]",
      "text/plain": [
       "<Figure size 432x288 with 1 Axes>"
      ]
     },
     "metadata": {
      "needs_background": "light"
     },
     "output_type": "display_data"
    },
    {
     "name": "stdout",
     "output_type": "stream",
     "text": [
      "plot of feature feature_12 is {'whiskers': [<matplotlib.lines.Line2D object at 0x7f5a80f1f5d0>, <matplotlib.lines.Line2D object at 0x7f5a80ef01d0>], 'caps': [<matplotlib.lines.Line2D object at 0x7f5a80ef06d0>, <matplotlib.lines.Line2D object at 0x7f5a80ef0bd0>], 'boxes': [<matplotlib.lines.Line2D object at 0x7f5a80f1f590>], 'medians': [<matplotlib.lines.Line2D object at 0x7f5a80f296d0>], 'fliers': [<matplotlib.lines.Line2D object at 0x7f5a80f29610>], 'means': []}\n"
     ]
    },
    {
     "data": {
      "image/png": "[encoded data removed]",
      "text/plain": [
       "<Figure size 432x288 with 1 Axes>"
      ]
     },
     "metadata": {
      "needs_background": "light"
     },
     "output_type": "display_data"
    },
    {
     "name": "stdout",
     "output_type": "stream",
     "text": [
      "plot of feature feature_13 is {'whiskers': [<matplotlib.lines.Line2D object at 0x7f5a80eb5850>, <matplotlib.lines.Line2D object at 0x7f5a80ec5450>], 'caps': [<matplotlib.lines.Line2D object at 0x7f5a80ec5950>, <matplotlib.lines.Line2D object at 0x7f5a80ec5e50>], 'boxes': [<matplotlib.lines.Line2D object at 0x7f5a80eb5810>], 'medians': [<matplotlib.lines.Line2D object at 0x7f5a80e91950>], 'fliers': [<matplotlib.lines.Line2D object at 0x7f5a80e91890>], 'means': []}\n"
     ]
    },
    {
     "data": {
      "image/png": "[encoded data removed]",
      "text/plain": [
       "<Figure size 432x288 with 1 Axes>"
      ]
     },
     "metadata": {
      "needs_background": "light"
     },
     "output_type": "display_data"
    },
    {
     "name": "stdout",
     "output_type": "stream",
     "text": [
      "plot of feature feature_14 is {'whiskers': [<matplotlib.lines.Line2D object at 0x7f5a80f34c10>, <matplotlib.lines.Line2D object at 0x7f5a80f3b810>], 'caps': [<matplotlib.lines.Line2D object at 0x7f5a80f3bd10>, <matplotlib.lines.Line2D object at 0x7f5a80f58250>], 'boxes': [<matplotlib.lines.Line2D object at 0x7f5a80f34bd0>], 'medians': [<matplotlib.lines.Line2D object at 0x7f5a80f58d10>], 'fliers': [<matplotlib.lines.Line2D object at 0x7f5a80f58c50>], 'means': []}\n"
     ]
    },
    {
     "data": {
      "image/png": "[encoded data removed]",
      "text/plain": [
       "<Figure size 432x288 with 1 Axes>"
      ]
     },
     "metadata": {
      "needs_background": "light"
     },
     "output_type": "display_data"
    },
    {
     "name": "stdout",
     "output_type": "stream",
     "text": [
      "plot of feature feature_15 is {'whiskers': [<matplotlib.lines.Line2D object at 0x7f5a80fded90>, <matplotlib.lines.Line2D object at 0x7f5a80cf3990>], 'caps': [<matplotlib.lines.Line2D object at 0x7f5a80cf3e10>, <matplotlib.lines.Line2D object at 0x7f5a80cf9350>], 'boxes': [<matplotlib.lines.Line2D object at 0x7f5a80fded50>], 'medians': [<matplotlib.lines.Line2D object at 0x7f5a80cf9e10>], 'fliers': [<matplotlib.lines.Line2D object at 0x7f5a80cf9d50>], 'means': []}\n"
     ]
    },
    {
     "data": {
      "image/png": "[encoded data removed]",
      "text/plain": [
       "<Figure size 432x288 with 1 Axes>"
      ]
     },
     "metadata": {
      "needs_background": "light"
     },
     "output_type": "display_data"
    },
    {
     "name": "stdout",
     "output_type": "stream",
     "text": [
      "plot of feature labels is {'whiskers': [<matplotlib.lines.Line2D object at 0x7f5a80cda650>, <matplotlib.lines.Line2D object at 0x7f5a80ce2290>], 'caps': [<matplotlib.lines.Line2D object at 0x7f5a80ce2710>, <matplotlib.lines.Line2D object at 0x7f5a80ce2c10>], 'boxes': [<matplotlib.lines.Line2D object at 0x7f5a80cda550>], 'medians': [<matplotlib.lines.Line2D object at 0x7f5a80c0f710>], 'fliers': [<matplotlib.lines.Line2D object at 0x7f5a80c0f650>], 'means': []}\n"
     ]
    },
    {
     "data": {
      "image/png": "[encoded data removed]",
      "text/plain": [
       "<Figure size 432x288 with 1 Axes>"
      ]
     },
     "metadata": {
      "needs_background": "light"
     },
     "output_type": "display_data"
    }
   ],
   "source": [
    "for col in train.columns:\n",
    "    plot = plt.boxplot(train[col])\n",
    "    print(f'plot of feature {col} is {plot}')\n",
    "    plt.show()"
   ]
  },
  {
   "cell_type": "markdown",
   "metadata": {},
   "source": [
    "With the help of plots, lets check the index of main outliers so we can delete them."
   ]
  },
  {
   "cell_type": "code",
   "execution_count": 9,
   "metadata": {},
   "outputs": [
    {
     "data": {
      "text/plain": [
       "Int64Index([5445, 5606, 29608], dtype='int64')"
      ]
     },
     "execution_count": 9,
     "metadata": {},
     "output_type": "execute_result"
    }
   ],
   "source": [
    "train[train['feature_1']>24].index"
   ]
  },
  {
   "cell_type": "code",
   "execution_count": 10,
   "metadata": {},
   "outputs": [
    {
     "data": {
      "text/plain": [
       "Int64Index([7705], dtype='int64')"
      ]
     },
     "execution_count": 10,
     "metadata": {},
     "output_type": "execute_result"
    }
   ],
   "source": [
    "train[train['feature_3']>15].index"
   ]
  },
  {
   "cell_type": "code",
   "execution_count": 11,
   "metadata": {},
   "outputs": [
    {
     "data": {
      "text/plain": [
       "Int64Index([17893, 20894, 32159], dtype='int64')"
      ]
     },
     "execution_count": 11,
     "metadata": {},
     "output_type": "execute_result"
    }
   ],
   "source": [
    "train[train['feature_4']>16].index"
   ]
  },
  {
   "cell_type": "code",
   "execution_count": 12,
   "metadata": {},
   "outputs": [
    {
     "data": {
      "text/plain": [
       "Int64Index([20042], dtype='int64')"
      ]
     },
     "execution_count": 12,
     "metadata": {},
     "output_type": "execute_result"
    }
   ],
   "source": [
    "train[train['feature_6']>20].index"
   ]
  },
  {
   "cell_type": "markdown",
   "metadata": {},
   "source": [
    "Now let us drop these outliers from dataset."
   ]
  },
  {
   "cell_type": "code",
   "execution_count": 13,
   "metadata": {},
   "outputs": [],
   "source": [
    "train1 = train.drop([5445, 5606, 29608, 20042, 17893, 20894, 32159, 7705])"
   ]
  },
  {
   "cell_type": "markdown",
   "metadata": {},
   "source": [
    "### 2.4 Bi-variate Analysis\n",
    "Check which feature is relevant or not."
   ]
  },
  {
   "cell_type": "code",
   "execution_count": 14,
   "metadata": {},
   "outputs": [
    {
     "data": {
      "image/png": "[encoded data removed]",
      "text/plain": [
       "<Figure size 1152x576 with 2 Axes>"
      ]
     },
     "metadata": {
      "needs_background": "light"
     },
     "output_type": "display_data"
    }
   ],
   "source": [
    "plt.figure(figsize=(16,8))\n",
    "corr = train.corr()\n",
    "ax = sns.heatmap(\n",
    "    corr, \n",
    "    vmin=-1, vmax=1, center=0,\n",
    "    cmap=sns.diverging_palette(20, 220, n=200),\n",
    "    square=True\n",
    ")\n",
    "ax.set_xticklabels(\n",
    "    ax.get_xticklabels(),\n",
    "    rotation=45,\n",
    "    horizontalalignment='right'\n",
    ");"
   ]
  },
  {
   "cell_type": "markdown",
   "metadata": {},
   "source": [
    "# 3. Split the features and lables from data"
   ]
  },
  {
   "cell_type": "code",
   "execution_count": 15,
   "metadata": {},
   "outputs": [
    {
     "data": {
      "text/plain": [
       "(33908, 15)"
      ]
     },
     "execution_count": 15,
     "metadata": {},
     "output_type": "execute_result"
    }
   ],
   "source": [
    "X = train[[col for col in train.columns if not col == 'labels']]\n",
    "X = X.set_index('feature_0')\n",
    "X.shape"
   ]
  },
  {
   "cell_type": "code",
   "execution_count": 16,
   "metadata": {},
   "outputs": [
    {
     "data": {
      "text/plain": [
       "(33908,)"
      ]
     },
     "execution_count": 16,
     "metadata": {},
     "output_type": "execute_result"
    }
   ],
   "source": [
    "y = train['labels']\n",
    "y.shape"
   ]
  },
  {
   "cell_type": "markdown",
   "metadata": {},
   "source": [
    "# 4. Splitting the dataset into the Training set and Test set\n",
    "\n",
    "We divide the data here into 80% train set and 20% test set."
   ]
  },
  {
   "cell_type": "code",
   "execution_count": 17,
   "metadata": {},
   "outputs": [],
   "source": [
    "from sklearn.model_selection import train_test_split\n",
    "train_X, val_X, train_y, val_y = train_test_split(X, y,train_size=0.8, test_size=0.2,random_state = 0)"
   ]
  },
  {
   "cell_type": "markdown",
   "metadata": {},
   "source": [
    "# 5. Create Model\n",
    "\n",
    "Here I'm using XGBOOST for classification.\n",
    "\n",
    "XGBoost is an optimized distributed gradient boosting library designed to be highly efficient, flexible and portable. It implements machine learning algorithms under the Gradient Boosting framework. XGBoost provides a parallel tree boosting (also known as GBDT, GBM) that solve many data science problems in a fast and accurate way."
   ]
  },
  {
   "cell_type": "markdown",
   "metadata": {},
   "source": [
    "### 4.1 Import model\n",
    "\n",
    "Here the tuning of parameters is alraedy done by me."
   ]
  },
  {
   "cell_type": "code",
   "execution_count": 18,
   "metadata": {},
   "outputs": [],
   "source": [
    "from xgboost import XGBClassifier\n",
    "model_xgb  = XGBClassifier(n_estimators = 178,\n",
    "                       eta = 0.17,\n",
    "                       booster_pram = 'dart',\n",
    "                       tree_method = 'hist',\n",
    "                       scale_pos_weight= 5,\n",
    "                       max_bin=215,\n",
    "                       random_state = 0)"
   ]
  },
  {
   "cell_type": "markdown",
   "metadata": {},
   "source": [
    "### 4.2 Fit the model"
   ]
  },
  {
   "cell_type": "code",
   "execution_count": 19,
   "metadata": {},
   "outputs": [
    {
     "data": {
      "text/plain": [
       "XGBClassifier(base_score=0.5, booster=None, booster_pram='dart',\n",
       "              colsample_bylevel=1, colsample_bynode=1, colsample_bytree=1,\n",
       "              eta=0.17, gamma=0, gpu_id=-1, importance_type='gain',\n",
       "              interaction_constraints=None, learning_rate=0.170000002,\n",
       "              max_bin=215, max_delta_step=0, max_depth=6, min_child_weight=1,\n",
       "              missing=nan, monotone_constraints=None, n_estimators=178,\n",
       "              n_jobs=0, num_parallel_tree=1, objective='binary:logistic',\n",
       "              random_state=0, reg_alpha=0, reg_lambda=1, scale_pos_weight=5,\n",
       "              subsample=1, tree_method='hist', validate_parameters=False,\n",
       "              verbosity=None)"
      ]
     },
     "execution_count": 19,
     "metadata": {},
     "output_type": "execute_result"
    }
   ],
   "source": [
    "model_xgb.fit(train_X,\n",
    "          train_y)"
   ]
  },
  {
   "cell_type": "markdown",
   "metadata": {},
   "source": [
    "### 4.3 Make the Prediction on test data"
   ]
  },
  {
   "cell_type": "code",
   "execution_count": 20,
   "metadata": {},
   "outputs": [],
   "source": [
    "predict = model_xgb.predict(val_X)"
   ]
  },
  {
   "cell_type": "markdown",
   "metadata": {},
   "source": [
    "### 4.4 Evaluate these predictions using F1 score metric\n",
    "\n",
    "The F1 score can be interpreted as a weighted average of the precision and recall, where an F1 score reaches its best value at 1 and worst score at 0. The relative contribution of precision and recall to the F1 score are equal. The formula for the F1 score is:\n",
    "\n",
    "F1 = 2 * (precision * recall) / (precision + recall)"
   ]
  },
  {
   "cell_type": "code",
   "execution_count": 21,
   "metadata": {},
   "outputs": [
    {
     "data": {
      "text/plain": [
       "0.6374298827129016"
      ]
     },
     "execution_count": 21,
     "metadata": {},
     "output_type": "execute_result"
    }
   ],
   "source": [
    "from sklearn.metrics import f1_score\n",
    "f1_score(val_y,predict)"
   ]
  },
  {
   "cell_type": "markdown",
   "metadata": {},
   "source": [
    "0.63 is pretty good score on this dataset. It is improved by doing some feature engineering, etc. \n",
    "You can try different algorithms too."
   ]
  },
  {
   "cell_type": "markdown",
   "metadata": {},
   "source": [
    "### 4.5  Confusion Matrix\n",
    "\n",
    "A confusion matrix is a table that is often used to describe the performance of a classification model (or \"classifier\") on a set of test data for which the true values are known.\n"
   ]
  },
  {
   "cell_type": "code",
   "execution_count": 22,
   "metadata": {},
   "outputs": [
    {
     "name": "stdout",
     "output_type": "stream",
     "text": [
      "Confusion matrix \n",
      " [[5446  554]\n",
      " [ 157  625]]\n"
     ]
    }
   ],
   "source": [
    "from sklearn.metrics import confusion_matrix\n",
    "print(\"Confusion matrix \\n\",confusion_matrix(val_y,predict))"
   ]
  },
  {
   "cell_type": "markdown",
   "metadata": {},
   "source": [
    "Keep supporting!\n",
    "\n",
    "\n",
    "## Any advice would be appreciated."
   ]
  }
 ],
 "metadata": {
  "kernelspec": {
   "display_name": "Python 3",
   "language": "python",
   "name": "python3"
  },
  "language_info": {
   "codemirror_mode": {
    "name": "ipython",
    "version": 3
   },
   "file_extension": ".py",
   "mimetype": "text/x-python",
   "name": "python",
   "nbconvert_exporter": "python",
   "pygments_lexer": "ipython3",
   "version": "3.7.6"
  }
 },
 "nbformat": 4,
 "nbformat_minor": 4
}
